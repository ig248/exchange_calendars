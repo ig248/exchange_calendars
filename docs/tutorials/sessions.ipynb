{
 "cells": [
  {
   "cell_type": "code",
   "execution_count": 2,
   "metadata": {},
   "outputs": [],
   "source": [
    "from datetime import datetime\n",
    "\n",
    "import exchange_calendars as xcals\n",
    "import pandas as pd"
   ]
  },
  {
   "cell_type": "markdown",
   "metadata": {},
   "source": [
    "# Sessions Tutorial"
   ]
  },
  {
   "cell_type": "markdown",
   "metadata": {},
   "source": [
    "In `exchange_calendars` a 'session' is a UTC midnight timestamp that represents a day on which an exchange is open..."
   ]
  },
  {
   "cell_type": "code",
   "execution_count": 3,
   "metadata": {},
   "outputs": [
    {
     "data": {
      "text/plain": [
       "DatetimeIndex(['2021-01-04 00:00:00+00:00', '2021-01-05 00:00:00+00:00',\n",
       "               '2021-01-06 00:00:00+00:00', '2021-01-07 00:00:00+00:00',\n",
       "               '2021-01-08 00:00:00+00:00'],\n",
       "              dtype='datetime64[ns, UTC]', freq='C')"
      ]
     },
     "execution_count": 3,
     "metadata": {},
     "output_type": "execute_result"
    }
   ],
   "source": [
    "xnys = xcals.get_calendar(\"XNYS\")  # New York Stock Exchange\n",
    "xnys.sessions_in_range(\"2021-01-01\", \"2021-01-10\")"
   ]
  },
  {
   "cell_type": "markdown",
   "metadata": {},
   "source": [
    "The calendar stores the open and close times for each session. If a session has a lunch break then the break start and break end times are also stored. All these times are defined as UTC."
   ]
  },
  {
   "cell_type": "code",
   "execution_count": 4,
   "metadata": {},
   "outputs": [
    {
     "data": {
      "text/html": [
       "<div>\n",
       "<style scoped>\n",
       "    .dataframe tbody tr th:only-of-type {\n",
       "        vertical-align: middle;\n",
       "    }\n",
       "\n",
       "    .dataframe tbody tr th {\n",
       "        vertical-align: top;\n",
       "    }\n",
       "\n",
       "    .dataframe thead th {\n",
       "        text-align: right;\n",
       "    }\n",
       "</style>\n",
       "<table border=\"1\" class=\"dataframe\">\n",
       "  <thead>\n",
       "    <tr style=\"text-align: right;\">\n",
       "      <th></th>\n",
       "      <th>market_open</th>\n",
       "      <th>break_start</th>\n",
       "      <th>break_end</th>\n",
       "      <th>market_close</th>\n",
       "    </tr>\n",
       "  </thead>\n",
       "  <tbody>\n",
       "    <tr>\n",
       "      <th>2001-09-21 00:00:00+00:00</th>\n",
       "      <td>2001-09-21 02:00:00</td>\n",
       "      <td>2001-09-21 04:00:00</td>\n",
       "      <td>2001-09-21 05:00:00</td>\n",
       "      <td>2001-09-21 08:00:00</td>\n",
       "    </tr>\n",
       "    <tr>\n",
       "      <th>2001-09-24 00:00:00+00:00</th>\n",
       "      <td>2001-09-24 02:00:00</td>\n",
       "      <td>2001-09-24 04:00:00</td>\n",
       "      <td>2001-09-24 05:00:00</td>\n",
       "      <td>2001-09-24 08:00:00</td>\n",
       "    </tr>\n",
       "    <tr>\n",
       "      <th>2001-09-25 00:00:00+00:00</th>\n",
       "      <td>2001-09-25 02:00:00</td>\n",
       "      <td>2001-09-25 04:00:00</td>\n",
       "      <td>2001-09-25 05:00:00</td>\n",
       "      <td>2001-09-25 08:00:00</td>\n",
       "    </tr>\n",
       "    <tr>\n",
       "      <th>2001-09-26 00:00:00+00:00</th>\n",
       "      <td>2001-09-26 02:00:00</td>\n",
       "      <td>2001-09-26 04:00:00</td>\n",
       "      <td>2001-09-26 05:00:00</td>\n",
       "      <td>2001-09-26 08:00:00</td>\n",
       "    </tr>\n",
       "    <tr>\n",
       "      <th>2001-09-27 00:00:00+00:00</th>\n",
       "      <td>2001-09-27 02:00:00</td>\n",
       "      <td>2001-09-27 04:00:00</td>\n",
       "      <td>2001-09-27 05:00:00</td>\n",
       "      <td>2001-09-27 08:00:00</td>\n",
       "    </tr>\n",
       "    <tr>\n",
       "      <th>...</th>\n",
       "      <td>...</td>\n",
       "      <td>...</td>\n",
       "      <td>...</td>\n",
       "      <td>...</td>\n",
       "    </tr>\n",
       "    <tr>\n",
       "      <th>2022-09-15 00:00:00+00:00</th>\n",
       "      <td>2022-09-15 01:30:00</td>\n",
       "      <td>2022-09-15 04:00:00</td>\n",
       "      <td>2022-09-15 05:00:00</td>\n",
       "      <td>2022-09-15 08:00:00</td>\n",
       "    </tr>\n",
       "    <tr>\n",
       "      <th>2022-09-16 00:00:00+00:00</th>\n",
       "      <td>2022-09-16 01:30:00</td>\n",
       "      <td>2022-09-16 04:00:00</td>\n",
       "      <td>2022-09-16 05:00:00</td>\n",
       "      <td>2022-09-16 08:00:00</td>\n",
       "    </tr>\n",
       "    <tr>\n",
       "      <th>2022-09-19 00:00:00+00:00</th>\n",
       "      <td>2022-09-19 01:30:00</td>\n",
       "      <td>2022-09-19 04:00:00</td>\n",
       "      <td>2022-09-19 05:00:00</td>\n",
       "      <td>2022-09-19 08:00:00</td>\n",
       "    </tr>\n",
       "    <tr>\n",
       "      <th>2022-09-20 00:00:00+00:00</th>\n",
       "      <td>2022-09-20 01:30:00</td>\n",
       "      <td>2022-09-20 04:00:00</td>\n",
       "      <td>2022-09-20 05:00:00</td>\n",
       "      <td>2022-09-20 08:00:00</td>\n",
       "    </tr>\n",
       "    <tr>\n",
       "      <th>2022-09-21 00:00:00+00:00</th>\n",
       "      <td>2022-09-21 01:30:00</td>\n",
       "      <td>2022-09-21 04:00:00</td>\n",
       "      <td>2022-09-21 05:00:00</td>\n",
       "      <td>2022-09-21 08:00:00</td>\n",
       "    </tr>\n",
       "  </tbody>\n",
       "</table>\n",
       "<p>5182 rows × 4 columns</p>\n",
       "</div>"
      ],
      "text/plain": [
       "                                  market_open         break_start  \\\n",
       "2001-09-21 00:00:00+00:00 2001-09-21 02:00:00 2001-09-21 04:00:00   \n",
       "2001-09-24 00:00:00+00:00 2001-09-24 02:00:00 2001-09-24 04:00:00   \n",
       "2001-09-25 00:00:00+00:00 2001-09-25 02:00:00 2001-09-25 04:00:00   \n",
       "2001-09-26 00:00:00+00:00 2001-09-26 02:00:00 2001-09-26 04:00:00   \n",
       "2001-09-27 00:00:00+00:00 2001-09-27 02:00:00 2001-09-27 04:00:00   \n",
       "...                                       ...                 ...   \n",
       "2022-09-15 00:00:00+00:00 2022-09-15 01:30:00 2022-09-15 04:00:00   \n",
       "2022-09-16 00:00:00+00:00 2022-09-16 01:30:00 2022-09-16 04:00:00   \n",
       "2022-09-19 00:00:00+00:00 2022-09-19 01:30:00 2022-09-19 04:00:00   \n",
       "2022-09-20 00:00:00+00:00 2022-09-20 01:30:00 2022-09-20 04:00:00   \n",
       "2022-09-21 00:00:00+00:00 2022-09-21 01:30:00 2022-09-21 04:00:00   \n",
       "\n",
       "                                    break_end        market_close  \n",
       "2001-09-21 00:00:00+00:00 2001-09-21 05:00:00 2001-09-21 08:00:00  \n",
       "2001-09-24 00:00:00+00:00 2001-09-24 05:00:00 2001-09-24 08:00:00  \n",
       "2001-09-25 00:00:00+00:00 2001-09-25 05:00:00 2001-09-25 08:00:00  \n",
       "2001-09-26 00:00:00+00:00 2001-09-26 05:00:00 2001-09-26 08:00:00  \n",
       "2001-09-27 00:00:00+00:00 2001-09-27 05:00:00 2001-09-27 08:00:00  \n",
       "...                                       ...                 ...  \n",
       "2022-09-15 00:00:00+00:00 2022-09-15 05:00:00 2022-09-15 08:00:00  \n",
       "2022-09-16 00:00:00+00:00 2022-09-16 05:00:00 2022-09-16 08:00:00  \n",
       "2022-09-19 00:00:00+00:00 2022-09-19 05:00:00 2022-09-19 08:00:00  \n",
       "2022-09-20 00:00:00+00:00 2022-09-20 05:00:00 2022-09-20 08:00:00  \n",
       "2022-09-21 00:00:00+00:00 2022-09-21 05:00:00 2022-09-21 08:00:00  \n",
       "\n",
       "[5182 rows x 4 columns]"
      ]
     },
     "execution_count": 4,
     "metadata": {},
     "output_type": "execute_result"
    }
   ],
   "source": [
    "xhkg = xcals.get_calendar(\"XHKG\", side=\"left\")  # Hong Kong Stock Exchange\n",
    "xhkg.schedule\n",
    "# The index is comprised of the calendar's sessions"
   ]
  },
  {
   "cell_type": "markdown",
   "metadata": {},
   "source": [
    "Each session is associated with a set of contiguous trading minutes (or two sets if the sesson has a lunch break)."
   ]
  },
  {
   "cell_type": "code",
   "execution_count": 5,
   "metadata": {},
   "outputs": [
    {
     "data": {
      "text/plain": [
       "DatetimeIndex(['2022-09-21 01:30:00+00:00', '2022-09-21 01:31:00+00:00',\n",
       "               '2022-09-21 01:32:00+00:00', '2022-09-21 01:33:00+00:00',\n",
       "               '2022-09-21 01:34:00+00:00', '2022-09-21 01:35:00+00:00',\n",
       "               '2022-09-21 01:36:00+00:00', '2022-09-21 01:37:00+00:00',\n",
       "               '2022-09-21 01:38:00+00:00', '2022-09-21 01:39:00+00:00',\n",
       "               ...\n",
       "               '2022-09-21 07:50:00+00:00', '2022-09-21 07:51:00+00:00',\n",
       "               '2022-09-21 07:52:00+00:00', '2022-09-21 07:53:00+00:00',\n",
       "               '2022-09-21 07:54:00+00:00', '2022-09-21 07:55:00+00:00',\n",
       "               '2022-09-21 07:56:00+00:00', '2022-09-21 07:57:00+00:00',\n",
       "               '2022-09-21 07:58:00+00:00', '2022-09-21 07:59:00+00:00'],\n",
       "              dtype='datetime64[ns, UTC]', length=330, freq=None)"
      ]
     },
     "execution_count": 5,
     "metadata": {},
     "output_type": "execute_result"
    }
   ],
   "source": [
    "xhkg.minutes_for_session(xhkg.schedule.index[-1])"
   ]
  },
  {
   "cell_type": "markdown",
   "metadata": {},
   "source": [
    "See the [minutes.ipynb](/minutes.ipynb) <!--CHECK LINE, MAY NEED TO MAKE ABSOLUTE--> tutorial for an explanation of how trading minutes for a session are evaluated according to the \"side\" option."
   ]
  },
  {
   "cell_type": "markdown",
   "metadata": {},
   "source": [
    "A timestamp representing a 'session' assumes the value of **UTC midnight of the day in which most of the session falls** (based on UTC open/close times). Almost all calendars' have sessions that fall fully within a single day. The schedule above shows this is the case for XHKG.\n",
    "\n",
    "A few calendars have sessions that fall over two days..."
   ]
  },
  {
   "cell_type": "code",
   "execution_count": 6,
   "metadata": {},
   "outputs": [
    {
     "data": {
      "text/html": [
       "<div>\n",
       "<style scoped>\n",
       "    .dataframe tbody tr th:only-of-type {\n",
       "        vertical-align: middle;\n",
       "    }\n",
       "\n",
       "    .dataframe tbody tr th {\n",
       "        vertical-align: top;\n",
       "    }\n",
       "\n",
       "    .dataframe thead th {\n",
       "        text-align: right;\n",
       "    }\n",
       "</style>\n",
       "<table border=\"1\" class=\"dataframe\">\n",
       "  <thead>\n",
       "    <tr style=\"text-align: right;\">\n",
       "      <th></th>\n",
       "      <th>market_open</th>\n",
       "      <th>break_start</th>\n",
       "      <th>break_end</th>\n",
       "      <th>market_close</th>\n",
       "    </tr>\n",
       "  </thead>\n",
       "  <tbody>\n",
       "    <tr>\n",
       "      <th>2001-09-21 00:00:00+00:00</th>\n",
       "      <td>2001-09-20 22:00:00</td>\n",
       "      <td>NaT</td>\n",
       "      <td>NaT</td>\n",
       "      <td>2001-09-21 22:00:00</td>\n",
       "    </tr>\n",
       "    <tr>\n",
       "      <th>2001-09-24 00:00:00+00:00</th>\n",
       "      <td>2001-09-23 22:00:00</td>\n",
       "      <td>NaT</td>\n",
       "      <td>NaT</td>\n",
       "      <td>2001-09-24 22:00:00</td>\n",
       "    </tr>\n",
       "    <tr>\n",
       "      <th>2001-09-25 00:00:00+00:00</th>\n",
       "      <td>2001-09-24 22:00:00</td>\n",
       "      <td>NaT</td>\n",
       "      <td>NaT</td>\n",
       "      <td>2001-09-25 22:00:00</td>\n",
       "    </tr>\n",
       "    <tr>\n",
       "      <th>2001-09-26 00:00:00+00:00</th>\n",
       "      <td>2001-09-25 22:00:00</td>\n",
       "      <td>NaT</td>\n",
       "      <td>NaT</td>\n",
       "      <td>2001-09-26 22:00:00</td>\n",
       "    </tr>\n",
       "    <tr>\n",
       "      <th>2001-09-27 00:00:00+00:00</th>\n",
       "      <td>2001-09-26 22:00:00</td>\n",
       "      <td>NaT</td>\n",
       "      <td>NaT</td>\n",
       "      <td>2001-09-27 22:00:00</td>\n",
       "    </tr>\n",
       "    <tr>\n",
       "      <th>...</th>\n",
       "      <td>...</td>\n",
       "      <td>...</td>\n",
       "      <td>...</td>\n",
       "      <td>...</td>\n",
       "    </tr>\n",
       "    <tr>\n",
       "      <th>2022-09-15 00:00:00+00:00</th>\n",
       "      <td>2022-09-14 22:00:00</td>\n",
       "      <td>NaT</td>\n",
       "      <td>NaT</td>\n",
       "      <td>2022-09-15 22:00:00</td>\n",
       "    </tr>\n",
       "    <tr>\n",
       "      <th>2022-09-16 00:00:00+00:00</th>\n",
       "      <td>2022-09-15 22:00:00</td>\n",
       "      <td>NaT</td>\n",
       "      <td>NaT</td>\n",
       "      <td>2022-09-16 22:00:00</td>\n",
       "    </tr>\n",
       "    <tr>\n",
       "      <th>2022-09-19 00:00:00+00:00</th>\n",
       "      <td>2022-09-18 22:00:00</td>\n",
       "      <td>NaT</td>\n",
       "      <td>NaT</td>\n",
       "      <td>2022-09-19 22:00:00</td>\n",
       "    </tr>\n",
       "    <tr>\n",
       "      <th>2022-09-20 00:00:00+00:00</th>\n",
       "      <td>2022-09-19 22:00:00</td>\n",
       "      <td>NaT</td>\n",
       "      <td>NaT</td>\n",
       "      <td>2022-09-20 22:00:00</td>\n",
       "    </tr>\n",
       "    <tr>\n",
       "      <th>2022-09-21 00:00:00+00:00</th>\n",
       "      <td>2022-09-20 22:00:00</td>\n",
       "      <td>NaT</td>\n",
       "      <td>NaT</td>\n",
       "      <td>2022-09-21 22:00:00</td>\n",
       "    </tr>\n",
       "  </tbody>\n",
       "</table>\n",
       "<p>5416 rows × 4 columns</p>\n",
       "</div>"
      ],
      "text/plain": [
       "                                  market_open break_start break_end  \\\n",
       "2001-09-21 00:00:00+00:00 2001-09-20 22:00:00         NaT       NaT   \n",
       "2001-09-24 00:00:00+00:00 2001-09-23 22:00:00         NaT       NaT   \n",
       "2001-09-25 00:00:00+00:00 2001-09-24 22:00:00         NaT       NaT   \n",
       "2001-09-26 00:00:00+00:00 2001-09-25 22:00:00         NaT       NaT   \n",
       "2001-09-27 00:00:00+00:00 2001-09-26 22:00:00         NaT       NaT   \n",
       "...                                       ...         ...       ...   \n",
       "2022-09-15 00:00:00+00:00 2022-09-14 22:00:00         NaT       NaT   \n",
       "2022-09-16 00:00:00+00:00 2022-09-15 22:00:00         NaT       NaT   \n",
       "2022-09-19 00:00:00+00:00 2022-09-18 22:00:00         NaT       NaT   \n",
       "2022-09-20 00:00:00+00:00 2022-09-19 22:00:00         NaT       NaT   \n",
       "2022-09-21 00:00:00+00:00 2022-09-20 22:00:00         NaT       NaT   \n",
       "\n",
       "                                 market_close  \n",
       "2001-09-21 00:00:00+00:00 2001-09-21 22:00:00  \n",
       "2001-09-24 00:00:00+00:00 2001-09-24 22:00:00  \n",
       "2001-09-25 00:00:00+00:00 2001-09-25 22:00:00  \n",
       "2001-09-26 00:00:00+00:00 2001-09-26 22:00:00  \n",
       "2001-09-27 00:00:00+00:00 2001-09-27 22:00:00  \n",
       "...                                       ...  \n",
       "2022-09-15 00:00:00+00:00 2022-09-15 22:00:00  \n",
       "2022-09-16 00:00:00+00:00 2022-09-16 22:00:00  \n",
       "2022-09-19 00:00:00+00:00 2022-09-19 22:00:00  \n",
       "2022-09-20 00:00:00+00:00 2022-09-20 22:00:00  \n",
       "2022-09-21 00:00:00+00:00 2022-09-21 22:00:00  \n",
       "\n",
       "[5416 rows x 4 columns]"
      ]
     },
     "execution_count": 6,
     "metadata": {},
     "output_type": "execute_result"
    }
   ],
   "source": [
    "cmes = xcals.get_calendar(\"CMES\")\n",
    "cmes.schedule\n",
    "# sessions take value as UTC midnight of the day in which most of the session falls.  "
   ]
  },
  {
   "cell_type": "markdown",
   "metadata": {},
   "source": [
    "### `session` parameter\n",
    "Methods that require a session to be specified take a `session` parameter (or `start_session` and `end_session` parameters if they require a session range).\n",
    "\n",
    "A `session` parameter can take a `Date` or a `Session` type, defined as:\n",
    "\n",
    "```python\n",
    "Date = typing.Union[pd.Timestamp, str, int, float, datetime.datetime]\n",
    "Session = Date\n",
    "```\n",
    "In short, a `session` parameter can take any type that can be passed as a single argument to pd.Timestamp(). For example, the argument of `next_session` takes a `Session` type and any of the following inputs are valid:\n",
    "<!--TODO - following any renaming, change method in following cell to `next_session`-->"
   ]
  },
  {
   "cell_type": "code",
   "execution_count": 7,
   "metadata": {},
   "outputs": [],
   "source": [
    "inputs = [\n",
    "    \"2021-06-15\",\n",
    "    pd.Timestamp(\"2021-06-15\"),\n",
    "    datetime(2021, 6, 15),\n",
    "    1623715200000000000,\n",
    "]\n",
    "xlon = xcals.get_calendar(\"XLON\")\n",
    "for input_ in inputs:\n",
    "    assert xlon.next_session_label(input_) == pd.Timestamp('2021-06-16', tz='UTC')"
   ]
  },
  {
   "cell_type": "markdown",
   "metadata": {},
   "source": [
    "The difference between `Date` and `Session` is that whilst an object passed to a parameter annotated `Date` can represent any date, an object passed to a parameter annotated `Session` must represent an actual calendar session.\n",
    "\n",
    "For example, the arguments of `sessions_in_range` take a `Date` type, such that the following is valid even though it can be seen that neither of the values passed represent sessions."
   ]
  },
  {
   "cell_type": "code",
   "execution_count": 8,
   "metadata": {},
   "outputs": [
    {
     "data": {
      "text/plain": [
       "DatetimeIndex(['2021-01-04 00:00:00+00:00', '2021-01-05 00:00:00+00:00',\n",
       "               '2021-01-06 00:00:00+00:00', '2021-01-07 00:00:00+00:00',\n",
       "               '2021-01-08 00:00:00+00:00'],\n",
       "              dtype='datetime64[ns, UTC]', freq='C')"
      ]
     },
     "execution_count": 8,
     "metadata": {},
     "output_type": "execute_result"
    }
   ],
   "source": [
    "xlon.sessions_in_range(\"2021-01-01\", \"2021-01-10\")"
   ]
  },
  {
   "cell_type": "markdown",
   "metadata": {},
   "source": [
    "However, passing a date that is not a session to an argument that takes a `Session` take will raise a `NotSessionError`..."
   ]
  },
  {
   "cell_type": "code",
   "execution_count": null,
   "metadata": {},
   "outputs": [],
   "source": [
    "xlon.session_open(\"2021-01-10\")\n",
    "# run cell for full traceback"
   ]
  },
  {
   "cell_type": "markdown",
   "metadata": {},
   "source": [
    "```python\n",
    "---------------------------------------------------------------------------\n",
    "NotSessionError                           Traceback (most recent call last)\n",
    "~\\AppData\\Local\\Temp/ipykernel_13120/1881329943.py in <module>\n",
    "----> 1 xlon.session_open(\"2021-01-10\")\n",
    "\n",
    "NotSessionError: Parameter `session_label` takes a session label although received input that parsed to '2021-01-10 00:00:00+00:00' which is not a session of calendar 'XLON'\n",
    "```"
   ]
  },
  {
   "cell_type": "markdown",
   "metadata": {},
   "source": [
    "To find out **which type a `session` parameter takes**, simply refer to the annotated types in the method signature:"
   ]
  },
  {
   "cell_type": "code",
   "execution_count": null,
   "metadata": {
    "tags": []
   },
   "outputs": [],
   "source": [
    "xlon.session_open?\n",
    "# run cell for full method doc"
   ]
  },
  {
   "cell_type": "markdown",
   "metadata": {},
   "source": [
    "```python\n",
    "Signature: xlon.session_open(session_label: 'Session', _parse: 'bool' = True) -> 'pd.Timestamp'\n",
    "Docstring: Return open time for a given session.\n",
    "```"
   ]
  },
  {
   "cell_type": "markdown",
   "metadata": {},
   "source": [
    "#### Invalid `session` input"
   ]
  },
  {
   "cell_type": "markdown",
   "metadata": {},
   "source": [
    "##### **Time components** \n",
    "A `session` parameter cannot include a time component..."
   ]
  },
  {
   "cell_type": "code",
   "execution_count": null,
   "metadata": {},
   "outputs": [],
   "source": [
    "xlon.session_open(\"2021-01-07 12:20\")\n",
    "# run cell for full traceback"
   ]
  },
  {
   "cell_type": "markdown",
   "metadata": {},
   "source": [
    "```python\n",
    "---------------------------------------------------------------------------\n",
    "ValueError                                Traceback (most recent call last)\n",
    "~\\AppData\\Local\\Temp/ipykernel_13120/3755301729.py in <module>\n",
    "----> 1 xlon.session_open(\"2021-01-07 12:20\")\n",
    "\n",
    "ValueError: Parameter `session_label` parsed as '2021-01-07 12:20:00' although a Date must have a time component of 00:00.\n",
    "```"
   ]
  },
  {
   "cell_type": "markdown",
   "metadata": {},
   "source": [
    "##### **Timezone**\n",
    "A `session` parameter can be passed as tz-naive or have tz defined as \"UTC\". Any other tz will raise a ValueError."
   ]
  },
  {
   "cell_type": "code",
   "execution_count": null,
   "metadata": {},
   "outputs": [],
   "source": [
    "session = pd.Timestamp(\"2021-01-07\", tz=\"Europe/London\")\n",
    "xlon.session_close(session)\n",
    "# run cell for full traceback"
   ]
  },
  {
   "cell_type": "markdown",
   "metadata": {},
   "source": [
    "```python\n",
    "---------------------------------------------------------------------------\n",
    "ValueError                                Traceback (most recent call last)\n",
    "~\\AppData\\Local\\Temp/ipykernel_13120/651798047.py in <module>\n",
    "      1 session = pd.Timestamp(\"2021-01-07\", tz=\"Europe/London\")\n",
    "----> 2 xlon.session_close(session)\n",
    "\n",
    "ValueError: Parameter `session_label` received with timezone defined as 'Europe/London' although a Date must be timezone naive or have timezone as 'UTC'.\n",
    "```"
   ]
  }
 ],
 "metadata": {
  "kernelspec": {
   "display_name": "xcals 3.7",
   "language": "python",
   "name": "xcals"
  },
  "language_info": {
   "codemirror_mode": {
    "name": "ipython",
    "version": 3
   },
   "file_extension": ".py",
   "mimetype": "text/x-python",
   "name": "python",
   "nbconvert_exporter": "python",
   "pygments_lexer": "ipython3",
   "version": "3.7.0"
  },
  "widgets": {
   "application/vnd.jupyter.widget-state+json": {
    "state": {},
    "version_major": 2,
    "version_minor": 0
   }
  }
 },
 "nbformat": 4,
 "nbformat_minor": 4
}
